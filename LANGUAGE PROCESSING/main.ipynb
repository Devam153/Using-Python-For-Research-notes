{
 "cells": [
  {
   "cell_type": "code",
   "execution_count": 1,
   "id": "01f54cea-b614-451f-a3bb-7a8c383cca0f",
   "metadata": {
    "tags": []
   },
   "outputs": [],
   "source": [
    "text = \"This is my text. We're keeping this short to keep things manageable\""
   ]
  },
  {
   "cell_type": "code",
   "execution_count": 2,
   "id": "902f5909-54ec-42e9-83f0-a2f7764aee40",
   "metadata": {
    "tags": []
   },
   "outputs": [
    {
     "name": "stdout",
     "output_type": "stream",
     "text": [
      "{'this': 2, 'is': 1, 'my': 1, 'text': 1, 'were': 1, 'keeping': 1, 'short': 1, 'to': 1, 'keep': 1, 'things': 1, 'manageable': 1}\n"
     ]
    }
   ],
   "source": [
    "def count_words(text):\n",
    "    word_counts = {}\n",
    "\n",
    "    text = text.lower()\n",
    "    skips = [\".\", \",\", \"'\", '\"', \":\", \";\"]\n",
    "    for ch in skips:\n",
    "        text = text.replace(ch, \"\")\n",
    "\n",
    "    for word in text.split(\" \"):\n",
    "        if word in word_counts:\n",
    "            word_counts[word] += 1\n",
    "        else:\n",
    "            word_counts[word] = 1\n",
    "    return word_counts\n",
    "\n",
    "count_words2 = count_words(text)\n",
    "print(count_words2)"
   ]
  },
  {
   "cell_type": "code",
   "execution_count": 3,
   "id": "47ec355b-f2e3-45df-8208-8cf75f08d014",
   "metadata": {
    "tags": []
   },
   "outputs": [
    {
     "name": "stdout",
     "output_type": "stream",
     "text": [
      "Counter({'this': 2, 'is': 1, 'my': 1, 'text': 1, 'were': 1, 'keeping': 1, 'short': 1, 'to': 1, 'keep': 1, 'things': 1, 'manageable': 1})\n"
     ]
    }
   ],
   "source": [
    "from collections import Counter\n",
    "\n",
    "def count_words_fast(text):\n",
    "    word_counts = {}\n",
    "\n",
    "    text = text.lower()\n",
    "    skips = [\".\", \",\", \"'\", '\"', \":\", \";\"]\n",
    "    for ch in skips:\n",
    "        text = text.replace(ch, \"\")\n",
    "\n",
    "    word_counts = Counter(text.split(\" \"))\n",
    "    return word_counts\n",
    "\n",
    "\n",
    "word_counts = count_words_fast(text)\n",
    "print(word_counts)"
   ]
  },
  {
   "cell_type": "code",
   "execution_count": 4,
   "id": "355bbaa8-da1e-4e4c-86ad-aae57f1611a5",
   "metadata": {
    "tags": []
   },
   "outputs": [
    {
     "name": "stdout",
     "output_type": "stream",
     "text": [
      "852\n"
     ]
    }
   ],
   "source": [
    "def read_book(title_path):\n",
    "    \"\"\"read a book and return it as a string\n",
    "    \"\"\"\n",
    "    with open(title_path, \"r\", encoding = \"utf8\") as current_file:\n",
    "        text = current_file.read()\n",
    "        text = text.replace(\"\\n\",\"\").replace(\"\\r\", \"\")\n",
    "    return text\n",
    "\n",
    "text = read_book(\"text.txt\")\n",
    "print(len(text))"
   ]
  },
  {
   "cell_type": "code",
   "execution_count": 5,
   "id": "b86683c2-5cd9-4993-b35d-93a0a0b9ab11",
   "metadata": {
    "tags": []
   },
   "outputs": [
    {
     "name": "stdout",
     "output_type": "stream",
     "text": [
      "297\n"
     ]
    },
    {
     "data": {
      "text/plain": [
       "'Alicia becomes completely'"
      ]
     },
     "execution_count": 5,
     "metadata": {},
     "output_type": "execute_result"
    }
   ],
   "source": [
    "ind = text.find(\"Alicia becomes completely\")\n",
    "print(ind)\n",
    "sample_text = text[ind : ind + 25]\n",
    "sample_text"
   ]
  },
  {
   "cell_type": "code",
   "execution_count": 6,
   "id": "ec9f3e6d-e828-483f-8c91-4f093230d2ef",
   "metadata": {
    "tags": []
   },
   "outputs": [
    {
     "name": "stdout",
     "output_type": "stream",
     "text": [
      "93 134\n"
     ]
    }
   ],
   "source": [
    "def word_stats(word_counts):\n",
    "    \"\"\"return no. of unique words and word frequencies\"\"\"\n",
    "    num_unique = len(word_counts)\n",
    "    counts = word_counts.values()\n",
    "    return (num_unique, counts)\n",
    "\n",
    "text = read_book(\"text.txt\")\n",
    "word_counts = count_words_fast(text)\n",
    "\n",
    "(num_unique, counts) = word_stats(word_counts)\n",
    "print(num_unique, sum(counts))"
   ]
  },
  {
   "cell_type": "code",
   "execution_count": 8,
   "id": "b1fddfea-e848-4d0a-8da6-22e0e9a5c15f",
   "metadata": {},
   "outputs": [
    {
     "data": {
      "text/html": [
       "<div>\n",
       "<style scoped>\n",
       "    .dataframe tbody tr th:only-of-type {\n",
       "        vertical-align: middle;\n",
       "    }\n",
       "\n",
       "    .dataframe tbody tr th {\n",
       "        vertical-align: top;\n",
       "    }\n",
       "\n",
       "    .dataframe thead th {\n",
       "        text-align: right;\n",
       "    }\n",
       "</style>\n",
       "<table border=\"1\" class=\"dataframe\">\n",
       "  <thead>\n",
       "    <tr style=\"text-align: right;\">\n",
       "      <th></th>\n",
       "      <th>name</th>\n",
       "      <th>age</th>\n",
       "    </tr>\n",
       "  </thead>\n",
       "  <tbody>\n",
       "    <tr>\n",
       "      <th>1</th>\n",
       "      <td>james</td>\n",
       "      <td>22</td>\n",
       "    </tr>\n",
       "    <tr>\n",
       "      <th>2</th>\n",
       "      <td>ana</td>\n",
       "      <td>22</td>\n",
       "    </tr>\n",
       "    <tr>\n",
       "      <th>3</th>\n",
       "      <td>NULL</td>\n",
       "      <td>NULL</td>\n",
       "    </tr>\n",
       "  </tbody>\n",
       "</table>\n",
       "</div>"
      ],
      "text/plain": [
       "    name   age\n",
       "1  james    22\n",
       "2    ana    22\n",
       "3   NULL  NULL"
      ]
     },
     "execution_count": 8,
     "metadata": {},
     "output_type": "execute_result"
    }
   ],
   "source": [
    "import pandas as pd\n",
    "table = pd.DataFrame(columns = (\"name\",\"age\"))\n",
    "table.loc[1] = 'james',22\n",
    "table.loc[2] = 'ana',22\n",
    "table.loc[3] = 'NULL','NULL'\n",
    "table\n"
   ]
  },
  {
   "cell_type": "code",
   "execution_count": null,
   "id": "31c980a5-90fb-4157-a026-d8974df69152",
   "metadata": {},
   "outputs": [],
   "source": []
  }
 ],
 "metadata": {
  "kernelspec": {
   "display_name": "Python 3 (ipykernel)",
   "language": "python",
   "name": "python3"
  },
  "language_info": {
   "codemirror_mode": {
    "name": "ipython",
    "version": 3
   },
   "file_extension": ".py",
   "mimetype": "text/x-python",
   "name": "python",
   "nbconvert_exporter": "python",
   "pygments_lexer": "ipython3",
   "version": "3.11.4"
  }
 },
 "nbformat": 4,
 "nbformat_minor": 5
}
