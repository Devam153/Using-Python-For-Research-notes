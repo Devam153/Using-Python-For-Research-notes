{
 "cells": [
  {
   "cell_type": "code",
   "execution_count": 1,
   "id": "47a461ac-11c2-44d5-9381-b53d0bb49b98",
   "metadata": {
    "tags": []
   },
   "outputs": [
    {
     "data": {
      "text/plain": [
       "0    4\n",
       "1    5\n",
       "2    3\n",
       "3    8\n",
       "4    4\n",
       "dtype: int64"
      ]
     },
     "execution_count": 1,
     "metadata": {},
     "output_type": "execute_result"
    }
   ],
   "source": [
    "#getting started with pandas\n",
    "#series\n",
    "import pandas as pd\n",
    "x = pd.Series([4,5,3,8,4])\n",
    "x"
   ]
  },
  {
   "cell_type": "code",
   "execution_count": 18,
   "id": "79b0b213-c7be-4ab8-8464-1670aa5a8111",
   "metadata": {
    "tags": []
   },
   "outputs": [
    {
     "data": {
      "text/plain": [
       "q    4\n",
       "w    5\n",
       "e    3\n",
       "r    8\n",
       "t    4\n",
       "dtype: int64"
      ]
     },
     "execution_count": 18,
     "metadata": {},
     "output_type": "execute_result"
    }
   ],
   "source": [
    "x = pd.Series([4,5,3,8,4], index = [\"q\",\"w\",\"e\",\"r\",\"t\"])\n",
    "x\n"
   ]
  },
  {
   "cell_type": "code",
   "execution_count": 19,
   "id": "fbc09b41-0a04-4ed5-a328-39eb931a0948",
   "metadata": {
    "tags": []
   },
   "outputs": [
    {
     "data": {
      "text/plain": [
       "w    5\n",
       "r    8\n",
       "dtype: int64"
      ]
     },
     "execution_count": 19,
     "metadata": {},
     "output_type": "execute_result"
    }
   ],
   "source": [
    "x[[\"w\",'r']]"
   ]
  },
  {
   "cell_type": "code",
   "execution_count": 20,
   "id": "22a8df69-8d66-493a-9f08-e39b03f208ee",
   "metadata": {
    "tags": []
   },
   "outputs": [
    {
     "data": {
      "text/plain": [
       "tim    23\n",
       "jim    33\n",
       "sam    31\n",
       "tam    22\n",
       "dtype: int64"
      ]
     },
     "execution_count": 20,
     "metadata": {},
     "output_type": "execute_result"
    }
   ],
   "source": [
    "age = {\"tim\":23,\"jim\":33,\"sam\":31,\"tam\":22}\n",
    "x = pd.Series(age)\n",
    "x"
   ]
  },
  {
   "cell_type": "code",
   "execution_count": 22,
   "id": "c3f8ebfc-b0d4-434c-89a2-ae05168e967b",
   "metadata": {
    "tags": []
   },
   "outputs": [
    {
     "data": {
      "text/html": [
       "<div>\n",
       "<style scoped>\n",
       "    .dataframe tbody tr th:only-of-type {\n",
       "        vertical-align: middle;\n",
       "    }\n",
       "\n",
       "    .dataframe tbody tr th {\n",
       "        vertical-align: top;\n",
       "    }\n",
       "\n",
       "    .dataframe thead th {\n",
       "        text-align: right;\n",
       "    }\n",
       "</style>\n",
       "<table border=\"1\" class=\"dataframe\">\n",
       "  <thead>\n",
       "    <tr style=\"text-align: right;\">\n",
       "      <th></th>\n",
       "      <th>name</th>\n",
       "      <th>age</th>\n",
       "      <th>zip</th>\n",
       "    </tr>\n",
       "  </thead>\n",
       "  <tbody>\n",
       "    <tr>\n",
       "      <th>0</th>\n",
       "      <td>tim</td>\n",
       "      <td>23</td>\n",
       "      <td>21442</td>\n",
       "    </tr>\n",
       "    <tr>\n",
       "      <th>1</th>\n",
       "      <td>jim</td>\n",
       "      <td>43</td>\n",
       "      <td>56445</td>\n",
       "    </tr>\n",
       "    <tr>\n",
       "      <th>2</th>\n",
       "      <td>pam</td>\n",
       "      <td>21</td>\n",
       "      <td>81231</td>\n",
       "    </tr>\n",
       "    <tr>\n",
       "      <th>3</th>\n",
       "      <td>sam</td>\n",
       "      <td>34</td>\n",
       "      <td>49542</td>\n",
       "    </tr>\n",
       "  </tbody>\n",
       "</table>\n",
       "</div>"
      ],
      "text/plain": [
       "  name  age    zip\n",
       "0  tim   23  21442\n",
       "1  jim   43  56445\n",
       "2  pam   21  81231\n",
       "3  sam   34  49542"
      ]
     },
     "execution_count": 22,
     "metadata": {},
     "output_type": "execute_result"
    }
   ],
   "source": [
    "#dataframe\n",
    "data = {\"name\": [\"tim\",\"jim\",\"pam\",\"sam\"],\n",
    "        \"age\": [23,43,21,34],\n",
    "        'zip': ['21442','56445','81231','49542']}\n",
    "x = pd.DataFrame(data,columns = ['name','age','zip'])\n",
    "x"
   ]
  },
  {
   "cell_type": "code",
   "execution_count": 6,
   "id": "334e184e-5bb7-4bae-98de-1840e69c3663",
   "metadata": {
    "tags": []
   },
   "outputs": [
    {
     "data": {
      "text/plain": [
       "0    tim\n",
       "1    jim\n",
       "2    pam\n",
       "3    sam\n",
       "Name: name, dtype: object"
      ]
     },
     "execution_count": 6,
     "metadata": {},
     "output_type": "execute_result"
    }
   ],
   "source": [
    "x.name"
   ]
  },
  {
   "cell_type": "code",
   "execution_count": 34,
   "id": "179229fb-4a0f-4a53-8d10-207680f94229",
   "metadata": {
    "tags": []
   },
   "outputs": [
    {
     "data": {
      "text/plain": [
       "Index(['q', 'w', 'e', 'r', 't'], dtype='object')"
      ]
     },
     "execution_count": 34,
     "metadata": {},
     "output_type": "execute_result"
    }
   ],
   "source": [
    "x = pd.Series([4,5,3,8,4], index = [\"q\",\"w\",\"e\",\"r\",\"t\"])\n",
    "x.index\n"
   ]
  },
  {
   "cell_type": "code",
   "execution_count": 35,
   "id": "c7011f73-dfe8-4f11-a0c2-ef11be1f88ef",
   "metadata": {
    "tags": []
   },
   "outputs": [
    {
     "data": {
      "text/plain": [
       "['w', 't', 'r', 'q', 'e']"
      ]
     },
     "execution_count": 35,
     "metadata": {},
     "output_type": "execute_result"
    }
   ],
   "source": [
    "sorted(x.index, reverse=True)"
   ]
  },
  {
   "cell_type": "code",
   "execution_count": 36,
   "id": "0eb80fc5-a3f6-458d-958b-49706f1244ba",
   "metadata": {
    "tags": []
   },
   "outputs": [
    {
     "data": {
      "text/plain": [
       "w    5\n",
       "t    4\n",
       "r    8\n",
       "q    4\n",
       "e    3\n",
       "dtype: int64"
      ]
     },
     "execution_count": 36,
     "metadata": {},
     "output_type": "execute_result"
    }
   ],
   "source": [
    "y = x.reindex(sorted(x.index, reverse=True))\n",
    "y"
   ]
  },
  {
   "cell_type": "code",
   "execution_count": 37,
   "id": "017326d0-9ad4-4125-8191-0651eb8828cb",
   "metadata": {
    "tags": []
   },
   "outputs": [
    {
     "data": {
      "text/plain": [
       "q    4\n",
       "w    5\n",
       "e    3\n",
       "r    8\n",
       "t    4\n",
       "dtype: int64"
      ]
     },
     "execution_count": 37,
     "metadata": {},
     "output_type": "execute_result"
    }
   ],
   "source": [
    "x"
   ]
  },
  {
   "cell_type": "code",
   "execution_count": 11,
   "id": "6126a093-e2a0-42db-93ed-0293baf4ab58",
   "metadata": {
    "tags": []
   },
   "outputs": [
    {
     "data": {
      "text/plain": [
       "e     6\n",
       "q     8\n",
       "r    16\n",
       "t     8\n",
       "w    10\n",
       "dtype: int64"
      ]
     },
     "execution_count": 11,
     "metadata": {},
     "output_type": "execute_result"
    }
   ],
   "source": [
    "x+y"
   ]
  },
  {
   "cell_type": "code",
   "execution_count": 12,
   "id": "067bf10c-de12-4638-addb-bbb78c4f6b0a",
   "metadata": {
    "tags": []
   },
   "outputs": [
    {
     "data": {
      "text/plain": [
       "e    9.0\n",
       "q    7.0\n",
       "r    NaN\n",
       "t    NaN\n",
       "w    7.0\n",
       "dtype: float64"
      ]
     },
     "execution_count": 12,
     "metadata": {},
     "output_type": "execute_result"
    }
   ],
   "source": [
    "x = pd.Series([4,5,3,8], index = [\"q\",\"w\",\"e\",\"t\"])\n",
    "y = pd.Series([3,2,6,8], index = [\"q\",\"w\",\"e\",\"r\"])\n",
    "x + y"
   ]
  },
  {
   "cell_type": "code",
   "execution_count": null,
   "id": "1bb20baf-8a62-464b-ab38-cd13de5e499a",
   "metadata": {},
   "outputs": [],
   "source": []
  }
 ],
 "metadata": {
  "kernelspec": {
   "display_name": "Python 3 (ipykernel)",
   "language": "python",
   "name": "python3"
  },
  "language_info": {
   "codemirror_mode": {
    "name": "ipython",
    "version": 3
   },
   "file_extension": ".py",
   "mimetype": "text/x-python",
   "name": "python",
   "nbconvert_exporter": "python",
   "pygments_lexer": "ipython3",
   "version": "3.11.5"
  }
 },
 "nbformat": 4,
 "nbformat_minor": 5
}
